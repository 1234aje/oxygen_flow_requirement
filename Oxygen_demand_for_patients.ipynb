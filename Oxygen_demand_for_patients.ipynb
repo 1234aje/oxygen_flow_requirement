{
 "cells": [
  {
   "cell_type": "code",
   "execution_count": 47,
   "id": "5053a2bf",
   "metadata": {},
   "outputs": [],
   "source": [
    "import pandas as pd\n",
    "import numpy as np\n",
    "import seaborn as sns\n",
    "import matplotlib.pyplot as plt\n",
    "import warnings\n",
    "warnings.filterwarnings(\"ignore\")\n",
    "from sklearn.impute import KNNImputer\n",
    "from scipy import stats\n",
    "from sklearn.preprocessing import StandardScaler\n",
    "from sklearn.feature_selection import mutual_info_regression,f_regression\n",
    "from skfeature.function.similarity_based import fisher_score \n",
    "from sklearn.model_selection import train_test_split,GridSearchCV\n",
    "from sklearn.tree import DecisionTreeRegressor\n",
    "from sklearn.linear_model import LinearRegression\n",
    "from sklearn.ensemble import RandomForestRegressor\n",
    "from sklearn.svm import SVR\n",
    "from sklearn.metrics import mean_squared_error,r2_score,mean_absolute_error\n",
    "from sklearn.neighbors import KNeighborsRegressor"
   ]
  },
  {
   "cell_type": "markdown",
   "id": "db5a7128",
   "metadata": {},
   "source": [
    "# 1. Problem Statement"
   ]
  },
  {
   "cell_type": "code",
   "execution_count": 2,
   "id": "6f3d1f80",
   "metadata": {},
   "outputs": [
    {
     "data": {
      "text/plain": [
       "\"Oxygen shortage was one of the prime causes of increasing death cases of Covid \\ninfected patients in India. That's why the client wants to develop a strategy to \\ndeliver oxygen in an efficient way so that it gets utilized to its fullest and \\nsustainably, thus reventing acute shortages of O2.\""
      ]
     },
     "execution_count": 2,
     "metadata": {},
     "output_type": "execute_result"
    }
   ],
   "source": [
    "\"\"\"Oxygen shortage was one of the prime causes of increasing death cases of Covid \n",
    "infected patients in India. That's why the client wants to develop a strategy to \n",
    "deliver oxygen in an efficient way so that it gets utilized to its fullest and \n",
    "sustainably, thus reventing acute shortages of O2.\"\"\"\n",
    "\n",
    "# Predict the oxygen demand for various categories of patients within a given span of time and duration.\n",
    "# (Oxygen demand for patients with acute respiratory syndromes)"
   ]
  },
  {
   "cell_type": "markdown",
   "id": "e482eb34",
   "metadata": {},
   "source": [
    "# 2. Data Gathering & Validation"
   ]
  },
  {
   "cell_type": "code",
   "execution_count": 3,
   "id": "dfe4e4a2",
   "metadata": {},
   "outputs": [
    {
     "data": {
      "text/html": [
       "<div>\n",
       "<style scoped>\n",
       "    .dataframe tbody tr th:only-of-type {\n",
       "        vertical-align: middle;\n",
       "    }\n",
       "\n",
       "    .dataframe tbody tr th {\n",
       "        vertical-align: top;\n",
       "    }\n",
       "\n",
       "    .dataframe thead th {\n",
       "        text-align: right;\n",
       "    }\n",
       "</style>\n",
       "<table border=\"1\" class=\"dataframe\">\n",
       "  <thead>\n",
       "    <tr style=\"text-align: right;\">\n",
       "      <th></th>\n",
       "      <th>age</th>\n",
       "      <th>gender</th>\n",
       "      <th>spo2</th>\n",
       "      <th>pr</th>\n",
       "      <th>c/nc</th>\n",
       "      <th>oxy_flow</th>\n",
       "    </tr>\n",
       "  </thead>\n",
       "  <tbody>\n",
       "    <tr>\n",
       "      <th>0</th>\n",
       "      <td>27</td>\n",
       "      <td>0</td>\n",
       "      <td>74.0</td>\n",
       "      <td>72.0</td>\n",
       "      <td>1.0</td>\n",
       "      <td>6.0</td>\n",
       "    </tr>\n",
       "    <tr>\n",
       "      <th>1</th>\n",
       "      <td>26</td>\n",
       "      <td>1</td>\n",
       "      <td>NaN</td>\n",
       "      <td>110.0</td>\n",
       "      <td>1.0</td>\n",
       "      <td>4.0</td>\n",
       "    </tr>\n",
       "    <tr>\n",
       "      <th>2</th>\n",
       "      <td>52</td>\n",
       "      <td>0</td>\n",
       "      <td>69.0</td>\n",
       "      <td>84.0</td>\n",
       "      <td>1.0</td>\n",
       "      <td>0.0</td>\n",
       "    </tr>\n",
       "    <tr>\n",
       "      <th>3</th>\n",
       "      <td>82</td>\n",
       "      <td>0</td>\n",
       "      <td>93.0</td>\n",
       "      <td>93.0</td>\n",
       "      <td>1.0</td>\n",
       "      <td>28.0</td>\n",
       "    </tr>\n",
       "    <tr>\n",
       "      <th>4</th>\n",
       "      <td>17</td>\n",
       "      <td>0</td>\n",
       "      <td>83.0</td>\n",
       "      <td>NaN</td>\n",
       "      <td>1.0</td>\n",
       "      <td>3.0</td>\n",
       "    </tr>\n",
       "  </tbody>\n",
       "</table>\n",
       "</div>"
      ],
      "text/plain": [
       "   age  gender  spo2     pr  c/nc  oxy_flow\n",
       "0   27       0  74.0   72.0   1.0       6.0\n",
       "1   26       1   NaN  110.0   1.0       4.0\n",
       "2   52       0  69.0   84.0   1.0       0.0\n",
       "3   82       0  93.0   93.0   1.0      28.0\n",
       "4   17       0  83.0    NaN   1.0       3.0"
      ]
     },
     "execution_count": 3,
     "metadata": {},
     "output_type": "execute_result"
    }
   ],
   "source": [
    "df = pd.read_csv(\"Oxygen_demand.csv\")\n",
    "df.head()"
   ]
  },
  {
   "cell_type": "code",
   "execution_count": 4,
   "id": "b0242a80",
   "metadata": {},
   "outputs": [],
   "source": [
    "# Feature information\n",
    "\n",
    "# age: The exact age of the patient concerned(in year)\n",
    "# gender: gender of patient concerned (0 for female and 1 for male)\n",
    "# spo2: The instantaneous oxygen saturation percentage of the patient concerned\n",
    "# pr: The instantaneous pulse rate of the patient concerned\n",
    "# c/nc: A categorical data categorizing the patient as infected with SARS (positive(1.0)/negative(0.0))\n",
    "\n",
    "# Oxygen Flow: Doctor-prescribed instantaneous oxygen flow concentration of the patient concerned (Target variable)\n"
   ]
  },
  {
   "cell_type": "markdown",
   "id": "fd828fdd",
   "metadata": {},
   "source": [
    "# 3. EDA"
   ]
  },
  {
   "cell_type": "code",
   "execution_count": 5,
   "id": "9096233f",
   "metadata": {},
   "outputs": [
    {
     "data": {
      "text/html": [
       "<div>\n",
       "<style scoped>\n",
       "    .dataframe tbody tr th:only-of-type {\n",
       "        vertical-align: middle;\n",
       "    }\n",
       "\n",
       "    .dataframe tbody tr th {\n",
       "        vertical-align: top;\n",
       "    }\n",
       "\n",
       "    .dataframe thead th {\n",
       "        text-align: right;\n",
       "    }\n",
       "</style>\n",
       "<table border=\"1\" class=\"dataframe\">\n",
       "  <thead>\n",
       "    <tr style=\"text-align: right;\">\n",
       "      <th></th>\n",
       "      <th>age</th>\n",
       "      <th>spo2</th>\n",
       "      <th>pr</th>\n",
       "      <th>oxy_flow</th>\n",
       "    </tr>\n",
       "  </thead>\n",
       "  <tbody>\n",
       "    <tr>\n",
       "      <th>count</th>\n",
       "      <td>139568.000000</td>\n",
       "      <td>120142.000000</td>\n",
       "      <td>115650.000000</td>\n",
       "      <td>139568.000000</td>\n",
       "    </tr>\n",
       "    <tr>\n",
       "      <th>mean</th>\n",
       "      <td>46.300957</td>\n",
       "      <td>88.671297</td>\n",
       "      <td>92.349209</td>\n",
       "      <td>18.680464</td>\n",
       "    </tr>\n",
       "    <tr>\n",
       "      <th>std</th>\n",
       "      <td>21.867571</td>\n",
       "      <td>15.489208</td>\n",
       "      <td>16.043013</td>\n",
       "      <td>17.855830</td>\n",
       "    </tr>\n",
       "    <tr>\n",
       "      <th>min</th>\n",
       "      <td>17.000000</td>\n",
       "      <td>35.000000</td>\n",
       "      <td>40.000000</td>\n",
       "      <td>0.000000</td>\n",
       "    </tr>\n",
       "    <tr>\n",
       "      <th>25%</th>\n",
       "      <td>28.000000</td>\n",
       "      <td>84.000000</td>\n",
       "      <td>82.000000</td>\n",
       "      <td>6.000000</td>\n",
       "    </tr>\n",
       "    <tr>\n",
       "      <th>50%</th>\n",
       "      <td>44.000000</td>\n",
       "      <td>97.000000</td>\n",
       "      <td>95.000000</td>\n",
       "      <td>16.000000</td>\n",
       "    </tr>\n",
       "    <tr>\n",
       "      <th>75%</th>\n",
       "      <td>62.000000</td>\n",
       "      <td>99.000000</td>\n",
       "      <td>107.000000</td>\n",
       "      <td>24.000000</td>\n",
       "    </tr>\n",
       "    <tr>\n",
       "      <th>max</th>\n",
       "      <td>100.000000</td>\n",
       "      <td>99.000000</td>\n",
       "      <td>110.000000</td>\n",
       "      <td>76.000000</td>\n",
       "    </tr>\n",
       "  </tbody>\n",
       "</table>\n",
       "</div>"
      ],
      "text/plain": [
       "                 age           spo2             pr       oxy_flow\n",
       "count  139568.000000  120142.000000  115650.000000  139568.000000\n",
       "mean       46.300957      88.671297      92.349209      18.680464\n",
       "std        21.867571      15.489208      16.043013      17.855830\n",
       "min        17.000000      35.000000      40.000000       0.000000\n",
       "25%        28.000000      84.000000      82.000000       6.000000\n",
       "50%        44.000000      97.000000      95.000000      16.000000\n",
       "75%        62.000000      99.000000     107.000000      24.000000\n",
       "max       100.000000      99.000000     110.000000      76.000000"
      ]
     },
     "execution_count": 5,
     "metadata": {},
     "output_type": "execute_result"
    }
   ],
   "source": [
    "df.describe().drop([\"gender\",\"c/nc\"], axis = 1) # All the stats of the data (except gender & c/nc: categorical)"
   ]
  },
  {
   "cell_type": "code",
   "execution_count": 6,
   "id": "71ea1527",
   "metadata": {},
   "outputs": [
    {
     "name": "stdout",
     "output_type": "stream",
     "text": [
      "<class 'pandas.core.frame.DataFrame'>\n",
      "RangeIndex: 139568 entries, 0 to 139567\n",
      "Data columns (total 6 columns):\n",
      " #   Column    Non-Null Count   Dtype  \n",
      "---  ------    --------------   -----  \n",
      " 0   age       139568 non-null  int64  \n",
      " 1   gender    139568 non-null  int64  \n",
      " 2   spo2      120142 non-null  float64\n",
      " 3   pr        115650 non-null  float64\n",
      " 4   c/nc      139568 non-null  float64\n",
      " 5   oxy_flow  139568 non-null  float64\n",
      "dtypes: float64(4), int64(2)\n",
      "memory usage: 6.4 MB\n"
     ]
    }
   ],
   "source": [
    "df.info() # information of the featuers"
   ]
  },
  {
   "cell_type": "code",
   "execution_count": 7,
   "id": "8584fa06",
   "metadata": {},
   "outputs": [
    {
     "data": {
      "text/plain": [
       "age          0.000\n",
       "gender       0.000\n",
       "spo2         9.713\n",
       "pr          11.959\n",
       "c/nc         0.000\n",
       "oxy_flow     0.000\n",
       "dtype: float64"
      ]
     },
     "execution_count": 7,
     "metadata": {},
     "output_type": "execute_result"
    }
   ],
   "source": [
    "(df.isna().sum()/200000)*100 # checking for % null values"
   ]
  },
  {
   "cell_type": "code",
   "execution_count": 8,
   "id": "725b4b70",
   "metadata": {},
   "outputs": [
    {
     "name": "stdout",
     "output_type": "stream",
     "text": [
      "unique values of age:: 84\n",
      "unique values of gender:: 2\n",
      "unique values of spo2:: 65\n",
      "unique values of pr:: 71\n",
      "unique values of c/nc:: 2\n",
      "unique values of oxy_flow:: 77\n"
     ]
    }
   ],
   "source": [
    "#cheking for unique values\n",
    "for i in df.columns:\n",
    "    print(f\"unique values of {i}:: {df[i].nunique()}\")"
   ]
  },
  {
   "cell_type": "code",
   "execution_count": 9,
   "id": "ef6c6afb",
   "metadata": {},
   "outputs": [
    {
     "data": {
      "text/plain": [
       "<AxesSubplot:title={'center':'pr distribution'}, ylabel='Density'>"
      ]
     },
     "execution_count": 9,
     "metadata": {},
     "output_type": "execute_result"
    },
    {
     "data": {
      "image/png": "[encoded data removed]",
      "text/plain": [
       "<Figure size 1440x360 with 3 Axes>"
      ]
     },
     "metadata": {
      "needs_background": "light"
     },
     "output_type": "display_data"
    }
   ],
   "source": [
    "# checking the distribution of the data\n",
    "fig, axes = plt.subplots(1, 3, figsize=(20,5))\n",
    "df.age.plot(kind = \"kde\",ax = axes[0],title =\"Age distribution\" ) \n",
    "df.spo2.plot(kind = \"kde\",ax = axes[1],color = \"aqua\", title = \"spo2 distribution\")\n",
    "df.pr.plot(kind =\"kde\",ax = axes[2],color = \"mediumorchid\", title = \"pr distribution\")"
   ]
  },
  {
   "cell_type": "code",
   "execution_count": 10,
   "id": "101f8213",
   "metadata": {},
   "outputs": [
    {
     "data": {
      "text/html": [
       "<div>\n",
       "<style scoped>\n",
       "    .dataframe tbody tr th:only-of-type {\n",
       "        vertical-align: middle;\n",
       "    }\n",
       "\n",
       "    .dataframe tbody tr th {\n",
       "        vertical-align: top;\n",
       "    }\n",
       "\n",
       "    .dataframe thead th {\n",
       "        text-align: right;\n",
       "    }\n",
       "</style>\n",
       "<table border=\"1\" class=\"dataframe\">\n",
       "  <thead>\n",
       "    <tr style=\"text-align: right;\">\n",
       "      <th>gender</th>\n",
       "      <th>0</th>\n",
       "      <th>1</th>\n",
       "    </tr>\n",
       "    <tr>\n",
       "      <th>c/nc</th>\n",
       "      <th></th>\n",
       "      <th></th>\n",
       "    </tr>\n",
       "  </thead>\n",
       "  <tbody>\n",
       "    <tr>\n",
       "      <th>0.0</th>\n",
       "      <td>45.716222</td>\n",
       "      <td>45.070575</td>\n",
       "    </tr>\n",
       "    <tr>\n",
       "      <th>1.0</th>\n",
       "      <td>46.882684</td>\n",
       "      <td>45.831948</td>\n",
       "    </tr>\n",
       "  </tbody>\n",
       "</table>\n",
       "</div>"
      ],
      "text/plain": [
       "gender          0          1\n",
       "c/nc                        \n",
       "0.0     45.716222  45.070575\n",
       "1.0     46.882684  45.831948"
      ]
     },
     "execution_count": 10,
     "metadata": {},
     "output_type": "execute_result"
    }
   ],
   "source": [
    "# checking in which gender the infected and disinfect patient with SARS needs how much avg age\n",
    "df.pivot_table(index = \"c/nc\", columns = \"gender\", values = \"age\"  )"
   ]
  },
  {
   "cell_type": "code",
   "execution_count": 11,
   "id": "045f9a94",
   "metadata": {},
   "outputs": [
    {
     "data": {
      "text/plain": [
       "gender\n",
       "0    46.637015\n",
       "1    45.662490\n",
       "Name: age, dtype: float64"
      ]
     },
     "execution_count": 11,
     "metadata": {},
     "output_type": "execute_result"
    }
   ],
   "source": [
    "# avg age in each gender\n",
    "df.groupby(\"gender\").mean()[\"age\"]"
   ]
  },
  {
   "cell_type": "code",
   "execution_count": 12,
   "id": "1e5ccadd",
   "metadata": {},
   "outputs": [
    {
     "data": {
      "text/plain": [
       "gender  c/nc\n",
       "0       0.0     45.716222\n",
       "        1.0     46.882684\n",
       "1       0.0     45.070575\n",
       "        1.0     45.831948\n",
       "Name: age, dtype: float64"
      ]
     },
     "execution_count": 12,
     "metadata": {},
     "output_type": "execute_result"
    }
   ],
   "source": [
    "# avg age of infected and disinfect patient with SARS in each gender\n",
    "df.groupby([\"gender\",\"c/nc\"]).mean()[\"age\"]"
   ]
  },
  {
   "cell_type": "code",
   "execution_count": 13,
   "id": "6ec631de",
   "metadata": {},
   "outputs": [
    {
     "data": {
      "text/plain": [
       "<AxesSubplot:ylabel='age'>"
      ]
     },
     "execution_count": 13,
     "metadata": {},
     "output_type": "execute_result"
    },
    {
     "data": {
      "image/png": "[encoded data removed]",
      "text/plain": [
       "<Figure size 432x288 with 1 Axes>"
      ]
     },
     "metadata": {},
     "output_type": "display_data"
    }
   ],
   "source": [
    "# bar graph of avg age of infected and disinfect patient with SARS in each gender\n",
    "df.groupby([\"gender\",\"c/nc\"]).mean()[\"age\"].plot(kind ='pie')"
   ]
  },
  {
   "cell_type": "code",
   "execution_count": 14,
   "id": "686cd348",
   "metadata": {},
   "outputs": [
    {
     "data": {
      "text/plain": [
       "gender\n",
       "0    1687962.0\n",
       "1     919233.0\n",
       "Name: oxy_flow, dtype: float64"
      ]
     },
     "execution_count": 14,
     "metadata": {},
     "output_type": "execute_result"
    }
   ],
   "source": [
    "# cheking either male or female needs more oxygen\n",
    "df.groupby(\"gender\").sum()['oxy_flow']"
   ]
  },
  {
   "cell_type": "code",
   "execution_count": 15,
   "id": "75d45c55",
   "metadata": {},
   "outputs": [
    {
     "data": {
      "text/html": [
       "<div>\n",
       "<style scoped>\n",
       "    .dataframe tbody tr th:only-of-type {\n",
       "        vertical-align: middle;\n",
       "    }\n",
       "\n",
       "    .dataframe tbody tr th {\n",
       "        vertical-align: top;\n",
       "    }\n",
       "\n",
       "    .dataframe thead th {\n",
       "        text-align: right;\n",
       "    }\n",
       "</style>\n",
       "<table border=\"1\" class=\"dataframe\">\n",
       "  <thead>\n",
       "    <tr style=\"text-align: right;\">\n",
       "      <th></th>\n",
       "      <th>mean</th>\n",
       "      <th>sum</th>\n",
       "    </tr>\n",
       "    <tr>\n",
       "      <th>c/nc</th>\n",
       "      <th></th>\n",
       "      <th></th>\n",
       "    </tr>\n",
       "  </thead>\n",
       "  <tbody>\n",
       "    <tr>\n",
       "      <th>0.0</th>\n",
       "      <td>19.285285</td>\n",
       "      <td>577980.0</td>\n",
       "    </tr>\n",
       "    <tr>\n",
       "      <th>1.0</th>\n",
       "      <td>18.515073</td>\n",
       "      <td>2029215.0</td>\n",
       "    </tr>\n",
       "  </tbody>\n",
       "</table>\n",
       "</div>"
      ],
      "text/plain": [
       "           mean        sum\n",
       "c/nc                      \n",
       "0.0   19.285285   577980.0\n",
       "1.0   18.515073  2029215.0"
      ]
     },
     "execution_count": 15,
     "metadata": {},
     "output_type": "execute_result"
    }
   ],
   "source": [
    "# total oxygen, and avg oxygen flow in each category who is infected and \n",
    "# disinfacted with Severe acute respiratory syndrome (SARS)\n",
    "df.groupby(\"c/nc\")[\"oxy_flow\"].agg([\"mean\",\"sum\"])"
   ]
  },
  {
   "cell_type": "code",
   "execution_count": 16,
   "id": "c9508cce",
   "metadata": {},
   "outputs": [
    {
     "data": {
      "text/plain": [
       "<AxesSubplot:xlabel='gender', ylabel='age'>"
      ]
     },
     "execution_count": 16,
     "metadata": {},
     "output_type": "execute_result"
    },
    {
     "data": {
      "image/png": "[encoded data removed]",
      "text/plain": [
       "<Figure size 432x288 with 1 Axes>"
      ]
     },
     "metadata": {
      "needs_background": "light"
     },
     "output_type": "display_data"
    }
   ],
   "source": [
    "# bar plot of ages in each sars infected and disinfacted males and feamales\n",
    "sns.barplot(x = \"gender\", y = \"age\",hue = \"c/nc\", data = df)"
   ]
  },
  {
   "cell_type": "code",
   "execution_count": 17,
   "id": "4d7e0d30",
   "metadata": {},
   "outputs": [
    {
     "data": {
      "text/html": [
       "<div>\n",
       "<style scoped>\n",
       "    .dataframe tbody tr th:only-of-type {\n",
       "        vertical-align: middle;\n",
       "    }\n",
       "\n",
       "    .dataframe tbody tr th {\n",
       "        vertical-align: top;\n",
       "    }\n",
       "\n",
       "    .dataframe thead tr th {\n",
       "        text-align: left;\n",
       "    }\n",
       "\n",
       "    .dataframe thead tr:last-of-type th {\n",
       "        text-align: right;\n",
       "    }\n",
       "</style>\n",
       "<table border=\"1\" class=\"dataframe\">\n",
       "  <thead>\n",
       "    <tr>\n",
       "      <th>gender</th>\n",
       "      <th colspan=\"10\" halign=\"left\">0</th>\n",
       "      <th>...</th>\n",
       "      <th colspan=\"10\" halign=\"left\">1</th>\n",
       "    </tr>\n",
       "    <tr>\n",
       "      <th>oxy_flow</th>\n",
       "      <th>0.0</th>\n",
       "      <th>1.0</th>\n",
       "      <th>2.0</th>\n",
       "      <th>3.0</th>\n",
       "      <th>4.0</th>\n",
       "      <th>5.0</th>\n",
       "      <th>6.0</th>\n",
       "      <th>7.0</th>\n",
       "      <th>8.0</th>\n",
       "      <th>9.0</th>\n",
       "      <th>...</th>\n",
       "      <th>67.0</th>\n",
       "      <th>68.0</th>\n",
       "      <th>69.0</th>\n",
       "      <th>70.0</th>\n",
       "      <th>71.0</th>\n",
       "      <th>72.0</th>\n",
       "      <th>73.0</th>\n",
       "      <th>74.0</th>\n",
       "      <th>75.0</th>\n",
       "      <th>76.0</th>\n",
       "    </tr>\n",
       "    <tr>\n",
       "      <th>age</th>\n",
       "      <th></th>\n",
       "      <th></th>\n",
       "      <th></th>\n",
       "      <th></th>\n",
       "      <th></th>\n",
       "      <th></th>\n",
       "      <th></th>\n",
       "      <th></th>\n",
       "      <th></th>\n",
       "      <th></th>\n",
       "      <th></th>\n",
       "      <th></th>\n",
       "      <th></th>\n",
       "      <th></th>\n",
       "      <th></th>\n",
       "      <th></th>\n",
       "      <th></th>\n",
       "      <th></th>\n",
       "      <th></th>\n",
       "      <th></th>\n",
       "      <th></th>\n",
       "    </tr>\n",
       "  </thead>\n",
       "  <tbody>\n",
       "    <tr>\n",
       "      <th>17</th>\n",
       "      <td>926</td>\n",
       "      <td>123</td>\n",
       "      <td>128</td>\n",
       "      <td>132</td>\n",
       "      <td>167</td>\n",
       "      <td>176</td>\n",
       "      <td>195</td>\n",
       "      <td>197</td>\n",
       "      <td>234</td>\n",
       "      <td>211</td>\n",
       "      <td>...</td>\n",
       "      <td>13</td>\n",
       "      <td>5</td>\n",
       "      <td>6</td>\n",
       "      <td>6</td>\n",
       "      <td>4</td>\n",
       "      <td>2</td>\n",
       "      <td>4</td>\n",
       "      <td>9</td>\n",
       "      <td>6</td>\n",
       "      <td>262</td>\n",
       "    </tr>\n",
       "    <tr>\n",
       "      <th>18</th>\n",
       "      <td>126</td>\n",
       "      <td>16</td>\n",
       "      <td>16</td>\n",
       "      <td>11</td>\n",
       "      <td>17</td>\n",
       "      <td>21</td>\n",
       "      <td>22</td>\n",
       "      <td>15</td>\n",
       "      <td>17</td>\n",
       "      <td>25</td>\n",
       "      <td>...</td>\n",
       "      <td>1</td>\n",
       "      <td>0</td>\n",
       "      <td>0</td>\n",
       "      <td>2</td>\n",
       "      <td>0</td>\n",
       "      <td>0</td>\n",
       "      <td>0</td>\n",
       "      <td>0</td>\n",
       "      <td>0</td>\n",
       "      <td>34</td>\n",
       "    </tr>\n",
       "    <tr>\n",
       "      <th>19</th>\n",
       "      <td>117</td>\n",
       "      <td>12</td>\n",
       "      <td>12</td>\n",
       "      <td>25</td>\n",
       "      <td>24</td>\n",
       "      <td>18</td>\n",
       "      <td>20</td>\n",
       "      <td>34</td>\n",
       "      <td>25</td>\n",
       "      <td>23</td>\n",
       "      <td>...</td>\n",
       "      <td>0</td>\n",
       "      <td>2</td>\n",
       "      <td>1</td>\n",
       "      <td>2</td>\n",
       "      <td>3</td>\n",
       "      <td>0</td>\n",
       "      <td>0</td>\n",
       "      <td>1</td>\n",
       "      <td>0</td>\n",
       "      <td>23</td>\n",
       "    </tr>\n",
       "    <tr>\n",
       "      <th>20</th>\n",
       "      <td>124</td>\n",
       "      <td>22</td>\n",
       "      <td>19</td>\n",
       "      <td>17</td>\n",
       "      <td>26</td>\n",
       "      <td>23</td>\n",
       "      <td>23</td>\n",
       "      <td>26</td>\n",
       "      <td>24</td>\n",
       "      <td>31</td>\n",
       "      <td>...</td>\n",
       "      <td>2</td>\n",
       "      <td>3</td>\n",
       "      <td>2</td>\n",
       "      <td>0</td>\n",
       "      <td>0</td>\n",
       "      <td>1</td>\n",
       "      <td>0</td>\n",
       "      <td>0</td>\n",
       "      <td>0</td>\n",
       "      <td>32</td>\n",
       "    </tr>\n",
       "    <tr>\n",
       "      <th>21</th>\n",
       "      <td>134</td>\n",
       "      <td>22</td>\n",
       "      <td>15</td>\n",
       "      <td>14</td>\n",
       "      <td>18</td>\n",
       "      <td>28</td>\n",
       "      <td>28</td>\n",
       "      <td>25</td>\n",
       "      <td>30</td>\n",
       "      <td>21</td>\n",
       "      <td>...</td>\n",
       "      <td>3</td>\n",
       "      <td>1</td>\n",
       "      <td>0</td>\n",
       "      <td>0</td>\n",
       "      <td>0</td>\n",
       "      <td>0</td>\n",
       "      <td>0</td>\n",
       "      <td>1</td>\n",
       "      <td>0</td>\n",
       "      <td>29</td>\n",
       "    </tr>\n",
       "    <tr>\n",
       "      <th>...</th>\n",
       "      <td>...</td>\n",
       "      <td>...</td>\n",
       "      <td>...</td>\n",
       "      <td>...</td>\n",
       "      <td>...</td>\n",
       "      <td>...</td>\n",
       "      <td>...</td>\n",
       "      <td>...</td>\n",
       "      <td>...</td>\n",
       "      <td>...</td>\n",
       "      <td>...</td>\n",
       "      <td>...</td>\n",
       "      <td>...</td>\n",
       "      <td>...</td>\n",
       "      <td>...</td>\n",
       "      <td>...</td>\n",
       "      <td>...</td>\n",
       "      <td>...</td>\n",
       "      <td>...</td>\n",
       "      <td>...</td>\n",
       "      <td>...</td>\n",
       "    </tr>\n",
       "    <tr>\n",
       "      <th>96</th>\n",
       "      <td>52</td>\n",
       "      <td>6</td>\n",
       "      <td>6</td>\n",
       "      <td>6</td>\n",
       "      <td>6</td>\n",
       "      <td>5</td>\n",
       "      <td>4</td>\n",
       "      <td>7</td>\n",
       "      <td>5</td>\n",
       "      <td>4</td>\n",
       "      <td>...</td>\n",
       "      <td>1</td>\n",
       "      <td>0</td>\n",
       "      <td>0</td>\n",
       "      <td>0</td>\n",
       "      <td>0</td>\n",
       "      <td>0</td>\n",
       "      <td>1</td>\n",
       "      <td>0</td>\n",
       "      <td>0</td>\n",
       "      <td>3</td>\n",
       "    </tr>\n",
       "    <tr>\n",
       "      <th>97</th>\n",
       "      <td>37</td>\n",
       "      <td>1</td>\n",
       "      <td>5</td>\n",
       "      <td>7</td>\n",
       "      <td>4</td>\n",
       "      <td>3</td>\n",
       "      <td>5</td>\n",
       "      <td>6</td>\n",
       "      <td>2</td>\n",
       "      <td>5</td>\n",
       "      <td>...</td>\n",
       "      <td>0</td>\n",
       "      <td>0</td>\n",
       "      <td>0</td>\n",
       "      <td>1</td>\n",
       "      <td>0</td>\n",
       "      <td>1</td>\n",
       "      <td>0</td>\n",
       "      <td>0</td>\n",
       "      <td>0</td>\n",
       "      <td>3</td>\n",
       "    </tr>\n",
       "    <tr>\n",
       "      <th>98</th>\n",
       "      <td>40</td>\n",
       "      <td>1</td>\n",
       "      <td>4</td>\n",
       "      <td>4</td>\n",
       "      <td>4</td>\n",
       "      <td>5</td>\n",
       "      <td>7</td>\n",
       "      <td>5</td>\n",
       "      <td>7</td>\n",
       "      <td>6</td>\n",
       "      <td>...</td>\n",
       "      <td>1</td>\n",
       "      <td>0</td>\n",
       "      <td>0</td>\n",
       "      <td>0</td>\n",
       "      <td>0</td>\n",
       "      <td>1</td>\n",
       "      <td>0</td>\n",
       "      <td>1</td>\n",
       "      <td>0</td>\n",
       "      <td>6</td>\n",
       "    </tr>\n",
       "    <tr>\n",
       "      <th>99</th>\n",
       "      <td>33</td>\n",
       "      <td>3</td>\n",
       "      <td>0</td>\n",
       "      <td>6</td>\n",
       "      <td>7</td>\n",
       "      <td>4</td>\n",
       "      <td>6</td>\n",
       "      <td>5</td>\n",
       "      <td>4</td>\n",
       "      <td>2</td>\n",
       "      <td>...</td>\n",
       "      <td>0</td>\n",
       "      <td>0</td>\n",
       "      <td>1</td>\n",
       "      <td>0</td>\n",
       "      <td>0</td>\n",
       "      <td>0</td>\n",
       "      <td>0</td>\n",
       "      <td>0</td>\n",
       "      <td>0</td>\n",
       "      <td>0</td>\n",
       "    </tr>\n",
       "    <tr>\n",
       "      <th>100</th>\n",
       "      <td>263</td>\n",
       "      <td>22</td>\n",
       "      <td>33</td>\n",
       "      <td>33</td>\n",
       "      <td>32</td>\n",
       "      <td>32</td>\n",
       "      <td>33</td>\n",
       "      <td>35</td>\n",
       "      <td>32</td>\n",
       "      <td>36</td>\n",
       "      <td>...</td>\n",
       "      <td>0</td>\n",
       "      <td>0</td>\n",
       "      <td>2</td>\n",
       "      <td>1</td>\n",
       "      <td>0</td>\n",
       "      <td>1</td>\n",
       "      <td>2</td>\n",
       "      <td>0</td>\n",
       "      <td>1</td>\n",
       "      <td>19</td>\n",
       "    </tr>\n",
       "  </tbody>\n",
       "</table>\n",
       "<p>84 rows × 154 columns</p>\n",
       "</div>"
      ],
      "text/plain": [
       "gender      0                                               ...    1       \\\n",
       "oxy_flow 0.0  1.0  2.0  3.0  4.0  5.0  6.0  7.0  8.0  9.0   ... 67.0 68.0   \n",
       "age                                                         ...             \n",
       "17        926  123  128  132  167  176  195  197  234  211  ...   13    5   \n",
       "18        126   16   16   11   17   21   22   15   17   25  ...    1    0   \n",
       "19        117   12   12   25   24   18   20   34   25   23  ...    0    2   \n",
       "20        124   22   19   17   26   23   23   26   24   31  ...    2    3   \n",
       "21        134   22   15   14   18   28   28   25   30   21  ...    3    1   \n",
       "..        ...  ...  ...  ...  ...  ...  ...  ...  ...  ...  ...  ...  ...   \n",
       "96         52    6    6    6    6    5    4    7    5    4  ...    1    0   \n",
       "97         37    1    5    7    4    3    5    6    2    5  ...    0    0   \n",
       "98         40    1    4    4    4    5    7    5    7    6  ...    1    0   \n",
       "99         33    3    0    6    7    4    6    5    4    2  ...    0    0   \n",
       "100       263   22   33   33   32   32   33   35   32   36  ...    0    0   \n",
       "\n",
       "gender                                            \n",
       "oxy_flow 69.0 70.0 71.0 72.0 73.0 74.0 75.0 76.0  \n",
       "age                                               \n",
       "17          6    6    4    2    4    9    6  262  \n",
       "18          0    2    0    0    0    0    0   34  \n",
       "19          1    2    3    0    0    1    0   23  \n",
       "20          2    0    0    1    0    0    0   32  \n",
       "21          0    0    0    0    0    1    0   29  \n",
       "..        ...  ...  ...  ...  ...  ...  ...  ...  \n",
       "96          0    0    0    0    1    0    0    3  \n",
       "97          0    1    0    1    0    0    0    3  \n",
       "98          0    0    0    1    0    1    0    6  \n",
       "99          1    0    0    0    0    0    0    0  \n",
       "100         2    1    0    1    2    0    1   19  \n",
       "\n",
       "[84 rows x 154 columns]"
      ]
     },
     "execution_count": 17,
     "metadata": {},
     "output_type": "execute_result"
    }
   ],
   "source": [
    "# checking in which gender and in which age category how many patients need how much oxy_flow\n",
    "pd.crosstab(index =df.age ,columns =[df.gender,df.oxy_flow])"
   ]
  },
  {
   "cell_type": "code",
   "execution_count": 18,
   "id": "6d7c9ad0",
   "metadata": {},
   "outputs": [
    {
     "data": {
      "text/plain": [
       "<AxesSubplot:xlabel='pr'>"
      ]
     },
     "execution_count": 18,
     "metadata": {},
     "output_type": "execute_result"
    },
    {
     "data": {
      "image/png": "[encoded data removed]",
      "text/plain": [
       "<Figure size 720x360 with 3 Axes>"
      ]
     },
     "metadata": {
      "needs_background": "light"
     },
     "output_type": "display_data"
    }
   ],
   "source": [
    "# checking for outliers\n",
    "fig, axes = plt.subplots(3, 1, figsize=(10, 5))\n",
    "sns.boxplot(df[\"age\"],ax = axes[0])\n",
    "sns.boxplot(df[\"spo2\"], ax = axes[1],color = \"gold\")\n",
    "sns.boxplot(df[\"pr\"], ax = axes[2],color = \"brown\")"
   ]
  },
  {
   "cell_type": "markdown",
   "id": "e547e1c4",
   "metadata": {},
   "source": [
    "###### So now we have all the insights of the data. Here we have to handle null values as well as outliers. So now the time to do featuer engineering "
   ]
  },
  {
   "cell_type": "markdown",
   "id": "defcf500",
   "metadata": {},
   "source": [
    "# 4. Feature Engineering"
   ]
  },
  {
   "cell_type": "code",
   "execution_count": 19,
   "id": "15158d0b",
   "metadata": {},
   "outputs": [
    {
     "data": {
      "text/html": [
       "<div>\n",
       "<style scoped>\n",
       "    .dataframe tbody tr th:only-of-type {\n",
       "        vertical-align: middle;\n",
       "    }\n",
       "\n",
       "    .dataframe tbody tr th {\n",
       "        vertical-align: top;\n",
       "    }\n",
       "\n",
       "    .dataframe thead th {\n",
       "        text-align: right;\n",
       "    }\n",
       "</style>\n",
       "<table border=\"1\" class=\"dataframe\">\n",
       "  <thead>\n",
       "    <tr style=\"text-align: right;\">\n",
       "      <th></th>\n",
       "      <th>age</th>\n",
       "      <th>gender</th>\n",
       "      <th>spo2</th>\n",
       "      <th>pr</th>\n",
       "      <th>c/nc</th>\n",
       "      <th>oxy_flow</th>\n",
       "    </tr>\n",
       "  </thead>\n",
       "  <tbody>\n",
       "    <tr>\n",
       "      <th>0</th>\n",
       "      <td>27.0</td>\n",
       "      <td>0.0</td>\n",
       "      <td>74.0</td>\n",
       "      <td>72.0</td>\n",
       "      <td>1.0</td>\n",
       "      <td>6.0</td>\n",
       "    </tr>\n",
       "    <tr>\n",
       "      <th>1</th>\n",
       "      <td>26.0</td>\n",
       "      <td>1.0</td>\n",
       "      <td>77.4</td>\n",
       "      <td>110.0</td>\n",
       "      <td>1.0</td>\n",
       "      <td>4.0</td>\n",
       "    </tr>\n",
       "    <tr>\n",
       "      <th>2</th>\n",
       "      <td>52.0</td>\n",
       "      <td>0.0</td>\n",
       "      <td>69.0</td>\n",
       "      <td>84.0</td>\n",
       "      <td>1.0</td>\n",
       "      <td>0.0</td>\n",
       "    </tr>\n",
       "    <tr>\n",
       "      <th>3</th>\n",
       "      <td>82.0</td>\n",
       "      <td>0.0</td>\n",
       "      <td>93.0</td>\n",
       "      <td>93.0</td>\n",
       "      <td>1.0</td>\n",
       "      <td>28.0</td>\n",
       "    </tr>\n",
       "    <tr>\n",
       "      <th>4</th>\n",
       "      <td>17.0</td>\n",
       "      <td>0.0</td>\n",
       "      <td>83.0</td>\n",
       "      <td>92.6</td>\n",
       "      <td>1.0</td>\n",
       "      <td>3.0</td>\n",
       "    </tr>\n",
       "  </tbody>\n",
       "</table>\n",
       "</div>"
      ],
      "text/plain": [
       "    age  gender  spo2     pr  c/nc  oxy_flow\n",
       "0  27.0     0.0  74.0   72.0   1.0       6.0\n",
       "1  26.0     1.0  77.4  110.0   1.0       4.0\n",
       "2  52.0     0.0  69.0   84.0   1.0       0.0\n",
       "3  82.0     0.0  93.0   93.0   1.0      28.0\n",
       "4  17.0     0.0  83.0   92.6   1.0       3.0"
      ]
     },
     "execution_count": 19,
     "metadata": {},
     "output_type": "execute_result"
    }
   ],
   "source": [
    "# first we will handle null values.\n",
    "# We can fill null values with mean, but knn-imputer is one of the best choice so we will use it.\n",
    "knn = KNNImputer()\n",
    "arr = knn.fit_transform(df)\n",
    "df1 = pd.DataFrame(arr, columns = df.columns)\n",
    "df1.head()"
   ]
  },
  {
   "cell_type": "code",
   "execution_count": 20,
   "id": "e7af32c4",
   "metadata": {},
   "outputs": [
    {
     "data": {
      "text/plain": [
       "age         0\n",
       "gender      0\n",
       "spo2        0\n",
       "pr          0\n",
       "c/nc        0\n",
       "oxy_flow    0\n",
       "dtype: int64"
      ]
     },
     "execution_count": 20,
     "metadata": {},
     "output_type": "execute_result"
    }
   ],
   "source": [
    "df1.isna().sum()"
   ]
  },
  {
   "cell_type": "code",
   "execution_count": 21,
   "id": "5ef3bd57",
   "metadata": {},
   "outputs": [
    {
     "data": {
      "text/plain": [
       "96        35.0\n",
       "108       35.0\n",
       "175       42.0\n",
       "224       39.0\n",
       "230       38.0\n",
       "          ... \n",
       "139471    42.0\n",
       "139477    38.0\n",
       "139524    43.0\n",
       "139546    35.0\n",
       "139551    35.0\n",
       "Name: spo2, Length: 4100, dtype: float64"
      ]
     },
     "execution_count": 21,
     "metadata": {},
     "output_type": "execute_result"
    }
   ],
   "source": [
    "# now we use z_score for finding the outliers\n",
    "# Normal SpO2 values vary between 90 and 100%\n",
    "\n",
    "z_val = stats.zscore(df1[\"spo2\"])\n",
    "z_val = np.abs(z_val)\n",
    "threshold = 3\n",
    "outliers = np.where(z_val >= threshold)\n",
    "df1[\"spo2\"][outliers[0]]"
   ]
  },
  {
   "cell_type": "code",
   "execution_count": 22,
   "id": "029a0f34",
   "metadata": {},
   "outputs": [
    {
     "data": {
      "text/plain": [
       "46        40.0\n",
       "86        40.0\n",
       "233       47.0\n",
       "255       47.0\n",
       "484       40.0\n",
       "          ... \n",
       "139240    45.0\n",
       "139311    46.0\n",
       "139330    40.0\n",
       "139341    43.0\n",
       "139496    40.0\n",
       "Name: pr, Length: 824, dtype: float64"
      ]
     },
     "execution_count": 22,
     "metadata": {},
     "output_type": "execute_result"
    }
   ],
   "source": [
    "# A normal pulse rate for adults is between 60 and 100 beats per minute.\n",
    "# Similar to spo2 we will use scaling for pr feature also.\n",
    "\n",
    "z_scr = stats.zscore(df1[\"pr\"])\n",
    "z_scr = np.abs(z_scr)\n",
    "threshold = 3\n",
    "outliers1 = np.where(z_scr >= threshold)\n",
    "df1[\"pr\"][outliers1[0]]"
   ]
  },
  {
   "cell_type": "markdown",
   "id": "58ee6e59",
   "metadata": {},
   "source": [
    "###### let's check the mean value of the featuer, wich is 88. But  if we replace outliers with 88 so it will be around normal range.\n",
    "###### So we will not handle outliers because we needs actual information.  But we can reduce the impact by using scaling."
   ]
  },
  {
   "cell_type": "markdown",
   "id": "2abf8c7d",
   "metadata": {},
   "source": [
    "# 5. Feature Selection"
   ]
  },
  {
   "cell_type": "code",
   "execution_count": 23,
   "id": "c3ac0943",
   "metadata": {},
   "outputs": [
    {
     "data": {
      "text/html": [
       "<div>\n",
       "<style scoped>\n",
       "    .dataframe tbody tr th:only-of-type {\n",
       "        vertical-align: middle;\n",
       "    }\n",
       "\n",
       "    .dataframe tbody tr th {\n",
       "        vertical-align: top;\n",
       "    }\n",
       "\n",
       "    .dataframe thead th {\n",
       "        text-align: right;\n",
       "    }\n",
       "</style>\n",
       "<table border=\"1\" class=\"dataframe\">\n",
       "  <thead>\n",
       "    <tr style=\"text-align: right;\">\n",
       "      <th></th>\n",
       "      <th>age</th>\n",
       "      <th>spo2</th>\n",
       "      <th>pr</th>\n",
       "    </tr>\n",
       "  </thead>\n",
       "  <tbody>\n",
       "    <tr>\n",
       "      <th>oxy_flow</th>\n",
       "      <td>-0.073438</td>\n",
       "      <td>-0.026834</td>\n",
       "      <td>-0.06514</td>\n",
       "    </tr>\n",
       "  </tbody>\n",
       "</table>\n",
       "</div>"
      ],
      "text/plain": [
       "               age      spo2       pr\n",
       "oxy_flow -0.073438 -0.026834 -0.06514"
      ]
     },
     "execution_count": 23,
     "metadata": {},
     "output_type": "execute_result"
    }
   ],
   "source": [
    "# less corellation between depedent and independent variables\n",
    "df1.corr()[-1:][[\"age\",\"spo2\",\"pr\"]] #(independent cont and dependent cont) "
   ]
  },
  {
   "cell_type": "code",
   "execution_count": 24,
   "id": "9d04d131",
   "metadata": {},
   "outputs": [
    {
     "data": {
      "text/html": [
       "<div>\n",
       "<style scoped>\n",
       "    .dataframe tbody tr th:only-of-type {\n",
       "        vertical-align: middle;\n",
       "    }\n",
       "\n",
       "    .dataframe tbody tr th {\n",
       "        vertical-align: top;\n",
       "    }\n",
       "\n",
       "    .dataframe thead th {\n",
       "        text-align: right;\n",
       "    }\n",
       "</style>\n",
       "<table border=\"1\" class=\"dataframe\">\n",
       "  <thead>\n",
       "    <tr style=\"text-align: right;\">\n",
       "      <th></th>\n",
       "      <th>gender</th>\n",
       "      <th>c/nc</th>\n",
       "    </tr>\n",
       "  </thead>\n",
       "  <tbody>\n",
       "    <tr>\n",
       "      <th>oxy_flow</th>\n",
       "      <td>0.022293</td>\n",
       "      <td>-0.021928</td>\n",
       "    </tr>\n",
       "  </tbody>\n",
       "</table>\n",
       "</div>"
      ],
      "text/plain": [
       "            gender      c/nc\n",
       "oxy_flow  0.022293 -0.021928"
      ]
     },
     "execution_count": 24,
     "metadata": {},
     "output_type": "execute_result"
    }
   ],
   "source": [
    "# less corellation between dependent and independent variables\n",
    "df1.corr(method = \"kendall\")[-1:][[\"gender\",\"c/nc\"]] # (independent cat and dependent con)"
   ]
  },
  {
   "cell_type": "code",
   "execution_count": 25,
   "id": "dac36e1c",
   "metadata": {},
   "outputs": [
    {
     "data": {
      "text/plain": [
       "age       0.007584\n",
       "gender    0.000000\n",
       "spo2      0.007281\n",
       "pr        0.017459\n",
       "c/nc      0.000000\n",
       "dtype: float64"
      ]
     },
     "execution_count": 25,
     "metadata": {},
     "output_type": "execute_result"
    }
   ],
   "source": [
    "# taking mutual information # telling all the featuers are giving information exept c/nc\n",
    "arr = mutual_info_regression(df1.drop(\"oxy_flow\", axis = 1), df1[\"oxy_flow\"])\n",
    "pd.Series(arr, index = df1.drop(\"oxy_flow\", axis = 1).columns)"
   ]
  },
  {
   "cell_type": "code",
   "execution_count": 26,
   "id": "c74ddac6",
   "metadata": {},
   "outputs": [
    {
     "data": {
      "text/html": [
       "<div>\n",
       "<style scoped>\n",
       "    .dataframe tbody tr th:only-of-type {\n",
       "        vertical-align: middle;\n",
       "    }\n",
       "\n",
       "    .dataframe tbody tr th {\n",
       "        vertical-align: top;\n",
       "    }\n",
       "\n",
       "    .dataframe thead th {\n",
       "        text-align: right;\n",
       "    }\n",
       "</style>\n",
       "<table border=\"1\" class=\"dataframe\">\n",
       "  <thead>\n",
       "    <tr style=\"text-align: right;\">\n",
       "      <th></th>\n",
       "      <th>F_val</th>\n",
       "      <th>P_val</th>\n",
       "    </tr>\n",
       "  </thead>\n",
       "  <tbody>\n",
       "    <tr>\n",
       "      <th>age</th>\n",
       "      <td>756.77</td>\n",
       "      <td>0.0</td>\n",
       "    </tr>\n",
       "    <tr>\n",
       "      <th>gender</th>\n",
       "      <td>40.44</td>\n",
       "      <td>0.0</td>\n",
       "    </tr>\n",
       "    <tr>\n",
       "      <th>spo2</th>\n",
       "      <td>100.57</td>\n",
       "      <td>0.0</td>\n",
       "    </tr>\n",
       "    <tr>\n",
       "      <th>pr</th>\n",
       "      <td>594.74</td>\n",
       "      <td>0.0</td>\n",
       "    </tr>\n",
       "    <tr>\n",
       "      <th>c/nc</th>\n",
       "      <td>43.80</td>\n",
       "      <td>0.0</td>\n",
       "    </tr>\n",
       "  </tbody>\n",
       "</table>\n",
       "</div>"
      ],
      "text/plain": [
       "         F_val  P_val\n",
       "age     756.77    0.0\n",
       "gender   40.44    0.0\n",
       "spo2    100.57    0.0\n",
       "pr      594.74    0.0\n",
       "c/nc     43.80    0.0"
      ]
     },
     "execution_count": 26,
     "metadata": {},
     "output_type": "execute_result"
    }
   ],
   "source": [
    "# conducting Annova Test # telling all the featues are good for model (cat VS cont)\n",
    "f_val,p_val = f_regression(df1.drop(\"oxy_flow\", axis = 1), df1[\"oxy_flow\"])\n",
    "pd.DataFrame({\"F_val\":np.around(f_val,2), \"P_val\": np.around(p_val,2)}, index = df1.drop(\"oxy_flow\", axis = 1).columns)\n"
   ]
  },
  {
   "cell_type": "code",
   "execution_count": 27,
   "id": "15c48733",
   "metadata": {},
   "outputs": [
    {
     "data": {
      "text/plain": [
       "<AxesSubplot:>"
      ]
     },
     "execution_count": 27,
     "metadata": {},
     "output_type": "execute_result"
    },
    {
     "data": {
      "image/png": "[encoded data removed]",
      "text/plain": [
       "<Figure size 432x288 with 1 Axes>"
      ]
     },
     "metadata": {
      "needs_background": "light"
     },
     "output_type": "display_data"
    }
   ],
   "source": [
    "# fisher score telling only pr is not important but we can not drop it as different tests told that pr is important\n",
    "fisher_scr = fisher_score.fisher_score(df1.drop(\"oxy_flow\", axis = 1)[0:5000].to_numpy(),df1[\"oxy_flow\"][0:5000])\n",
    "s = pd.Series(fisher_scr,index = df1.drop(\"oxy_flow\", axis = 1).columns)\n",
    "s.sort_values().plot(kind = \"barh\")"
   ]
  },
  {
   "cell_type": "markdown",
   "id": "83f1cd65",
   "metadata": {},
   "source": [
    "###### After conducting all the feature selection techniques, we can conclude that there is no featuer to drop"
   ]
  },
  {
   "cell_type": "markdown",
   "id": "ceca0065",
   "metadata": {},
   "source": [
    "# 6. Model Selection & Training"
   ]
  },
  {
   "cell_type": "code",
   "execution_count": 28,
   "id": "be44087f",
   "metadata": {},
   "outputs": [],
   "source": [
    "x = df1.drop(\"oxy_flow\", axis = 1)\n",
    "y = df1[\"oxy_flow\"]"
   ]
  },
  {
   "cell_type": "code",
   "execution_count": 43,
   "id": "8dfe9119",
   "metadata": {},
   "outputs": [],
   "source": [
    "# spliting the data for training as well as testing purpose\n",
    "x_train,x_test,y_train,y_test = train_test_split(x,y, random_state=42,test_size=0.35 )"
   ]
  },
  {
   "cell_type": "markdown",
   "id": "09f0c1c4",
   "metadata": {},
   "source": [
    "###### We have to split our data into training and testing purpose before going for scaling to skip data leakage."
   ]
  },
  {
   "cell_type": "code",
   "execution_count": 44,
   "id": "fffcf29a",
   "metadata": {},
   "outputs": [
    {
     "data": {
      "text/html": [
       "<div>\n",
       "<style scoped>\n",
       "    .dataframe tbody tr th:only-of-type {\n",
       "        vertical-align: middle;\n",
       "    }\n",
       "\n",
       "    .dataframe tbody tr th {\n",
       "        vertical-align: top;\n",
       "    }\n",
       "\n",
       "    .dataframe thead th {\n",
       "        text-align: right;\n",
       "    }\n",
       "</style>\n",
       "<table border=\"1\" class=\"dataframe\">\n",
       "  <thead>\n",
       "    <tr style=\"text-align: right;\">\n",
       "      <th></th>\n",
       "      <th>age</th>\n",
       "      <th>gender</th>\n",
       "      <th>spo2</th>\n",
       "      <th>pr</th>\n",
       "      <th>c/nc</th>\n",
       "    </tr>\n",
       "  </thead>\n",
       "  <tbody>\n",
       "    <tr>\n",
       "      <th>0</th>\n",
       "      <td>-1.341253</td>\n",
       "      <td>-0.723771</td>\n",
       "      <td>0.569698</td>\n",
       "      <td>-1.493465</td>\n",
       "      <td>0.522818</td>\n",
       "    </tr>\n",
       "    <tr>\n",
       "      <th>1</th>\n",
       "      <td>0.898132</td>\n",
       "      <td>1.381653</td>\n",
       "      <td>0.706798</td>\n",
       "      <td>0.183700</td>\n",
       "      <td>0.522818</td>\n",
       "    </tr>\n",
       "    <tr>\n",
       "      <th>2</th>\n",
       "      <td>-1.112744</td>\n",
       "      <td>-0.723771</td>\n",
       "      <td>-1.075505</td>\n",
       "      <td>0.988740</td>\n",
       "      <td>0.522818</td>\n",
       "    </tr>\n",
       "    <tr>\n",
       "      <th>3</th>\n",
       "      <td>-1.341253</td>\n",
       "      <td>1.381653</td>\n",
       "      <td>0.706798</td>\n",
       "      <td>0.317874</td>\n",
       "      <td>0.522818</td>\n",
       "    </tr>\n",
       "    <tr>\n",
       "      <th>4</th>\n",
       "      <td>-1.341253</td>\n",
       "      <td>1.381653</td>\n",
       "      <td>-0.047253</td>\n",
       "      <td>-0.487166</td>\n",
       "      <td>0.522818</td>\n",
       "    </tr>\n",
       "    <tr>\n",
       "      <th>...</th>\n",
       "      <td>...</td>\n",
       "      <td>...</td>\n",
       "      <td>...</td>\n",
       "      <td>...</td>\n",
       "      <td>...</td>\n",
       "    </tr>\n",
       "    <tr>\n",
       "      <th>90714</th>\n",
       "      <td>-0.061604</td>\n",
       "      <td>1.381653</td>\n",
       "      <td>0.158397</td>\n",
       "      <td>1.190000</td>\n",
       "      <td>-1.912712</td>\n",
       "    </tr>\n",
       "    <tr>\n",
       "      <th>90715</th>\n",
       "      <td>1.903570</td>\n",
       "      <td>-0.723771</td>\n",
       "      <td>0.638248</td>\n",
       "      <td>-0.285906</td>\n",
       "      <td>0.522818</td>\n",
       "    </tr>\n",
       "    <tr>\n",
       "      <th>90716</th>\n",
       "      <td>-0.975639</td>\n",
       "      <td>-0.723771</td>\n",
       "      <td>0.706798</td>\n",
       "      <td>0.519134</td>\n",
       "      <td>-1.912712</td>\n",
       "    </tr>\n",
       "    <tr>\n",
       "      <th>90717</th>\n",
       "      <td>1.492254</td>\n",
       "      <td>1.381653</td>\n",
       "      <td>0.144687</td>\n",
       "      <td>1.190000</td>\n",
       "      <td>-1.912712</td>\n",
       "    </tr>\n",
       "    <tr>\n",
       "      <th>90718</th>\n",
       "      <td>0.349711</td>\n",
       "      <td>-0.723771</td>\n",
       "      <td>0.706798</td>\n",
       "      <td>-1.627638</td>\n",
       "      <td>0.522818</td>\n",
       "    </tr>\n",
       "  </tbody>\n",
       "</table>\n",
       "<p>90719 rows × 5 columns</p>\n",
       "</div>"
      ],
      "text/plain": [
       "            age    gender      spo2        pr      c/nc\n",
       "0     -1.341253 -0.723771  0.569698 -1.493465  0.522818\n",
       "1      0.898132  1.381653  0.706798  0.183700  0.522818\n",
       "2     -1.112744 -0.723771 -1.075505  0.988740  0.522818\n",
       "3     -1.341253  1.381653  0.706798  0.317874  0.522818\n",
       "4     -1.341253  1.381653 -0.047253 -0.487166  0.522818\n",
       "...         ...       ...       ...       ...       ...\n",
       "90714 -0.061604  1.381653  0.158397  1.190000 -1.912712\n",
       "90715  1.903570 -0.723771  0.638248 -0.285906  0.522818\n",
       "90716 -0.975639 -0.723771  0.706798  0.519134 -1.912712\n",
       "90717  1.492254  1.381653  0.144687  1.190000 -1.912712\n",
       "90718  0.349711 -0.723771  0.706798 -1.627638  0.522818\n",
       "\n",
       "[90719 rows x 5 columns]"
      ]
     },
     "execution_count": 44,
     "metadata": {},
     "output_type": "execute_result"
    }
   ],
   "source": [
    "# scaling to reduce impact of the outliers (fit only on training data)\n",
    "std = StandardScaler()\n",
    "arr = std.fit_transform(x_train)\n",
    "std_x_tr = pd.DataFrame(arr,columns = x_train.columns)\n",
    "std_x_tr"
   ]
  },
  {
   "cell_type": "code",
   "execution_count": 45,
   "id": "ac9bdf85",
   "metadata": {},
   "outputs": [
    {
     "data": {
      "text/html": [
       "<div>\n",
       "<style scoped>\n",
       "    .dataframe tbody tr th:only-of-type {\n",
       "        vertical-align: middle;\n",
       "    }\n",
       "\n",
       "    .dataframe tbody tr th {\n",
       "        vertical-align: top;\n",
       "    }\n",
       "\n",
       "    .dataframe thead th {\n",
       "        text-align: right;\n",
       "    }\n",
       "</style>\n",
       "<table border=\"1\" class=\"dataframe\">\n",
       "  <thead>\n",
       "    <tr style=\"text-align: right;\">\n",
       "      <th></th>\n",
       "      <th>age</th>\n",
       "      <th>gender</th>\n",
       "      <th>spo2</th>\n",
       "      <th>pr</th>\n",
       "      <th>c/nc</th>\n",
       "    </tr>\n",
       "  </thead>\n",
       "  <tbody>\n",
       "    <tr>\n",
       "      <th>0</th>\n",
       "      <td>-1.249849</td>\n",
       "      <td>-0.723771</td>\n",
       "      <td>0.706798</td>\n",
       "      <td>0.586220</td>\n",
       "      <td>0.522818</td>\n",
       "    </tr>\n",
       "    <tr>\n",
       "      <th>1</th>\n",
       "      <td>-1.341253</td>\n",
       "      <td>-0.723771</td>\n",
       "      <td>-0.184354</td>\n",
       "      <td>-0.889685</td>\n",
       "      <td>0.522818</td>\n",
       "    </tr>\n",
       "    <tr>\n",
       "      <th>2</th>\n",
       "      <td>-1.249849</td>\n",
       "      <td>1.381653</td>\n",
       "      <td>-0.869855</td>\n",
       "      <td>-2.701024</td>\n",
       "      <td>0.522818</td>\n",
       "    </tr>\n",
       "    <tr>\n",
       "      <th>3</th>\n",
       "      <td>2.223482</td>\n",
       "      <td>-0.723771</td>\n",
       "      <td>0.706798</td>\n",
       "      <td>1.190000</td>\n",
       "      <td>0.522818</td>\n",
       "    </tr>\n",
       "    <tr>\n",
       "      <th>4</th>\n",
       "      <td>-0.655727</td>\n",
       "      <td>-0.723771</td>\n",
       "      <td>0.007587</td>\n",
       "      <td>-0.956772</td>\n",
       "      <td>0.522818</td>\n",
       "    </tr>\n",
       "    <tr>\n",
       "      <th>...</th>\n",
       "      <td>...</td>\n",
       "      <td>...</td>\n",
       "      <td>...</td>\n",
       "      <td>...</td>\n",
       "      <td>...</td>\n",
       "    </tr>\n",
       "    <tr>\n",
       "      <th>48844</th>\n",
       "      <td>-1.158446</td>\n",
       "      <td>1.381653</td>\n",
       "      <td>-1.761006</td>\n",
       "      <td>-0.030977</td>\n",
       "      <td>-1.912712</td>\n",
       "    </tr>\n",
       "    <tr>\n",
       "      <th>48845</th>\n",
       "      <td>-0.472920</td>\n",
       "      <td>1.381653</td>\n",
       "      <td>0.706798</td>\n",
       "      <td>-0.151733</td>\n",
       "      <td>0.522818</td>\n",
       "    </tr>\n",
       "    <tr>\n",
       "      <th>48846</th>\n",
       "      <td>0.441115</td>\n",
       "      <td>-0.723771</td>\n",
       "      <td>0.706798</td>\n",
       "      <td>-0.420079</td>\n",
       "      <td>0.522818</td>\n",
       "    </tr>\n",
       "    <tr>\n",
       "      <th>48847</th>\n",
       "      <td>1.446553</td>\n",
       "      <td>1.381653</td>\n",
       "      <td>0.706798</td>\n",
       "      <td>-0.822599</td>\n",
       "      <td>0.522818</td>\n",
       "    </tr>\n",
       "    <tr>\n",
       "      <th>48848</th>\n",
       "      <td>0.715325</td>\n",
       "      <td>-0.723771</td>\n",
       "      <td>0.638248</td>\n",
       "      <td>0.210535</td>\n",
       "      <td>0.522818</td>\n",
       "    </tr>\n",
       "  </tbody>\n",
       "</table>\n",
       "<p>48849 rows × 5 columns</p>\n",
       "</div>"
      ],
      "text/plain": [
       "            age    gender      spo2        pr      c/nc\n",
       "0     -1.249849 -0.723771  0.706798  0.586220  0.522818\n",
       "1     -1.341253 -0.723771 -0.184354 -0.889685  0.522818\n",
       "2     -1.249849  1.381653 -0.869855 -2.701024  0.522818\n",
       "3      2.223482 -0.723771  0.706798  1.190000  0.522818\n",
       "4     -0.655727 -0.723771  0.007587 -0.956772  0.522818\n",
       "...         ...       ...       ...       ...       ...\n",
       "48844 -1.158446  1.381653 -1.761006 -0.030977 -1.912712\n",
       "48845 -0.472920  1.381653  0.706798 -0.151733  0.522818\n",
       "48846  0.441115 -0.723771  0.706798 -0.420079  0.522818\n",
       "48847  1.446553  1.381653  0.706798 -0.822599  0.522818\n",
       "48848  0.715325 -0.723771  0.638248  0.210535  0.522818\n",
       "\n",
       "[48849 rows x 5 columns]"
      ]
     },
     "execution_count": 45,
     "metadata": {},
     "output_type": "execute_result"
    }
   ],
   "source": [
    "# Now we will scale test data set values\n",
    "arr2 = std.transform(x_test)\n",
    "std_x_te= pd.DataFrame(arr2,columns = x_test.columns)\n",
    "std_x_te"
   ]
  },
  {
   "cell_type": "code",
   "execution_count": 46,
   "id": "06096272",
   "metadata": {},
   "outputs": [
    {
     "name": "stdout",
     "output_type": "stream",
     "text": [
      "the accuracies of linear_regression model \n",
      "          (Training: 0.010773712055877627) \n",
      "          (Test: 0.010662927950376933)\n",
      "the mse of linear_regression model \n",
      "          (Training: 12.381505821643579) \n",
      "          (Test: 12.398824227964312) \n",
      "******************************\n",
      "the accuracies of DT model \n",
      "          (Training: 0.7317988266712216) \n",
      "          (Test: -0.7351391773429956)\n",
      "the mse of DT model \n",
      "          (Training: 4.103502641544424) \n",
      "          (Test: 16.17876786386259) \n",
      "******************************\n",
      "the accuracies of Random_Forest model \n",
      "          (Training: 0.637010939517058) \n",
      "          (Test: -0.13617173017835205)\n",
      "the mse of Random_Forest model \n",
      "          (Training: 7.100588023295455) \n",
      "          (Test: 13.462902571490543) \n",
      "******************************\n",
      "the accuracies of KNN model \n",
      "          (Training: 0.1992617366497137) \n",
      "          (Test: -0.16193438107410185)\n",
      "the mse of KNN model \n",
      "          (Training: 11.482648618260784) \n",
      "          (Test: 13.77615509017585) \n",
      "******************************\n"
     ]
    }
   ],
   "source": [
    "models = [(\"linear_regression\",LinearRegression()),(\"DT\", DecisionTreeRegressor()),\n",
    "          (\"Random_Forest\",RandomForestRegressor()),(\"KNN\",KNeighborsRegressor())]\n",
    "for name,model in models:\n",
    "    model.fit(std_x_tr,y_train)\n",
    "    pred = model.predict(std_x_tr)\n",
    "    pred1 = model.predict(std_x_te)\n",
    "    print(f\"\"\"the accuracies of {name} model \n",
    "          (Training: {r2_score(y_train,pred)}) \n",
    "          (Test: {r2_score(y_test,pred1)})\"\"\" )\n",
    "    print(f\"\"\"the mse of {name} model \n",
    "          (Training: {mean_absolute_error(y_train,pred)}) \n",
    "          (Test: {mean_absolute_error(y_test,pred1)}) \"\"\")\n",
    "    print(\"*\"*30)\n",
    "    "
   ]
  },
  {
   "cell_type": "markdown",
   "id": "e40e1de7",
   "metadata": {},
   "source": [
    "###### As we can see the accuracy of DT model is giving goodness of best fit line. So, we will go forward with the model"
   ]
  },
  {
   "cell_type": "code",
   "execution_count": null,
   "id": "ff79ddd0",
   "metadata": {},
   "outputs": [],
   "source": [
    "# Hyper parameter tuning\n",
    "model = DecisionTreeRegressor()\n",
    "param = {\"criterion\":[\"mse\",\"mae\"], \"max_depth\": np.arange(2,30),\n",
    "         \"min_samples_split\": np.arange(2,20), \"min_samples_leaf\": np.arange(1,10),\n",
    "         \"random_state\": [42,43,44,45]}\n",
    "grscv = GridSearchCV(model,param,cv=5)\n",
    "grscv.fit(std_x_tr,y_train)\n",
    "grscv.best_estimator_"
   ]
  },
  {
   "cell_type": "code",
   "execution_count": null,
   "id": "a6703b37",
   "metadata": {},
   "outputs": [],
   "source": []
  },
  {
   "cell_type": "code",
   "execution_count": null,
   "id": "3a836f3c",
   "metadata": {},
   "outputs": [],
   "source": []
  },
  {
   "cell_type": "code",
   "execution_count": null,
   "id": "ab2d1773",
   "metadata": {},
   "outputs": [],
   "source": []
  },
  {
   "cell_type": "code",
   "execution_count": null,
   "id": "b2ff8b1e",
   "metadata": {},
   "outputs": [],
   "source": []
  },
  {
   "cell_type": "code",
   "execution_count": null,
   "id": "47b302c8",
   "metadata": {},
   "outputs": [],
   "source": []
  },
  {
   "cell_type": "code",
   "execution_count": null,
   "id": "3ac35956",
   "metadata": {},
   "outputs": [],
   "source": []
  },
  {
   "cell_type": "code",
   "execution_count": null,
   "id": "96794e16",
   "metadata": {},
   "outputs": [],
   "source": []
  },
  {
   "cell_type": "code",
   "execution_count": null,
   "id": "91d219d5",
   "metadata": {},
   "outputs": [],
   "source": []
  },
  {
   "cell_type": "markdown",
   "id": "b162c14c",
   "metadata": {},
   "source": [
    "# pre pruning\n",
    "dt_1 = DecisionTreeClassifier(random_state=45,ccp_alpha=0.0)\n",
    "dt_1.fit(std_x_tr,y_train)"
   ]
  },
  {
   "cell_type": "markdown",
   "id": "5ff3f115",
   "metadata": {},
   "source": [
    "#post pruning\n",
    "dictt = dt_1.cost_complexity_pruning_path(std_x_tr,y_train)\n",
    "ccp_alphas = dictt[\"ccp_alphas\"]\n",
    "train_accuracy_list = []\n",
    "test_accuracy_list = []\n",
    "for ccp_val in ccp_alphas:\n",
    "    if ccp_val > 0:\n",
    "        dt_2 = DecisionTreeClassifier(random_state = 42,ccp_alpha = ccp_val)\n",
    "        dt_2.fit(std_x_tr,y_train)\n",
    "        train_accuracy_list.append(dt_2.score(std_x_tr,y_train))\n",
    "        test_accuracy_list.append(dt_2.score(std_x_te,y_test))"
   ]
  },
  {
   "cell_type": "markdown",
   "id": "3061881f",
   "metadata": {},
   "source": [
    "index = np.where(test_accuracy_list == np.max(test_accuracy_list))\n",
    "for i in index[0]:\n",
    "    print(f\"at the {ccp_alphas[i]} ccp_alpha value, \\nwe will get {train_accuracy_list[i]} training accuracy \\nand {test_accuracy_list[i]} testing accuracy\")\n",
    "    print(\"#\"*50)"
   ]
  },
  {
   "cell_type": "code",
   "execution_count": null,
   "id": "f8515cba",
   "metadata": {},
   "outputs": [],
   "source": []
  },
  {
   "cell_type": "code",
   "execution_count": null,
   "id": "df34b161",
   "metadata": {},
   "outputs": [],
   "source": []
  },
  {
   "cell_type": "code",
   "execution_count": null,
   "id": "b620482f",
   "metadata": {},
   "outputs": [],
   "source": []
  },
  {
   "cell_type": "code",
   "execution_count": null,
   "id": "5f64de06",
   "metadata": {},
   "outputs": [],
   "source": []
  },
  {
   "cell_type": "markdown",
   "id": "c1da8fc1",
   "metadata": {},
   "source": [
    "# for cheking the model\n",
    "age_of_car = 0.090\n",
    "age_of_policyholder = 0.471\n",
    "area_cluster = \"C11\"\n",
    "population_density = 0.901\n",
    "make = 3\n",
    "segment = \"C1\"\n",
    "model = \"M2\"\n",
    "fuel_type = \"Petrol\"\n",
    "engine_type = \"F8D Petrol Engine\"\n",
    "rear_brakes_type = \"Drum\"\n",
    "transmission_type = \"Manual\"\n",
    "gear_box = 5\n",
    "steering_type = \"Manual\"\n",
    "\n",
    "\n",
    "# __________________________________________________________________________________________________________________\n",
    "\n",
    "test_array = np.zeros(smt_x.shape[1])\n",
    "column_names = smt_x.columns\n",
    "test_array[0] = age_of_car\n",
    "test_array[1] = age_of_policyholder\n",
    "test_array[2] = data_dict['area_cluster'][area_cluster]\n",
    "test_array[3] = population_density\n",
    "test_array[4] = make\n",
    "test_array[5] = data_dict['segment'][segment]\n",
    "test_array[6] = data_dict['model'][model]\n",
    "test_array[7] = data_dict['fuel_type'][fuel_type]\n",
    "test_array[8] = data_dict['engine_type'][engine_type]\n",
    "test_array[9] = data_dict['rear_brakes_type'][rear_brakes_type]\n",
    "test_array[10] = data_dict['transmission_type'][transmission_type]\n",
    "test_array[11] = gear_box\n",
    "test_array[12] = data_dict['steering_type'][steering_type]"
   ]
  },
  {
   "cell_type": "code",
   "execution_count": null,
   "id": "8160e1a6",
   "metadata": {},
   "outputs": [],
   "source": []
  }
 ],
 "metadata": {
  "kernelspec": {
   "display_name": "Python 3 (ipykernel)",
   "language": "python",
   "name": "python3"
  },
  "language_info": {
   "codemirror_mode": {
    "name": "ipython",
    "version": 3
   },
   "file_extension": ".py",
   "mimetype": "text/x-python",
   "name": "python",
   "nbconvert_exporter": "python",
   "pygments_lexer": "ipython3",
   "version": "3.10.5"
  }
 },
 "nbformat": 4,
 "nbformat_minor": 5
}
